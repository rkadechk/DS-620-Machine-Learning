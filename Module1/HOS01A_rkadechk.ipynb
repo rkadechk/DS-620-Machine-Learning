{
  "nbformat": 4,
  "nbformat_minor": 0,
  "metadata": {
    "colab": {
      "provenance": []
    },
    "kernelspec": {
      "name": "python3",
      "display_name": "Python 3"
    },
    "language_info": {
      "name": "python"
    }
  },
  "cells": [
    {
      "cell_type": "code",
      "execution_count": 1,
      "metadata": {
        "colab": {
          "base_uri": "https://localhost:8080/"
        },
        "id": "fxE5wakwLaqJ",
        "outputId": "2269601d-8861-4939-9289-74a8890ad696"
      },
      "outputs": [
        {
          "output_type": "stream",
          "name": "stdout",
          "text": [
            "Hello,Colab\n"
          ]
        }
      ],
      "source": [
        "import sklearn as sk\n",
        "print(\"Hello,Colab\")"
      ]
    },
    {
      "cell_type": "markdown",
      "source": [
        "# Hello, Colab"
      ],
      "metadata": {
        "id": "0D0d5dtvLyn2"
      }
    }
  ]
}